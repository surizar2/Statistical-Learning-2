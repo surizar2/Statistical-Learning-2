{
 "cells": [
  {
   "cell_type": "markdown",
   "metadata": {},
   "source": [
    "# Laboratorio 2, Statistical Learning 2\n",
    "\n",
    "Silvio Urizar\n",
    "4 de septiembre de  2023"
   ]
  },
  {
   "cell_type": "code",
   "execution_count": 1,
   "metadata": {},
   "outputs": [],
   "source": [
    "import numpy as np\n",
    "import pandas as pd\n",
    "import tensorflow as tf\n",
    "from tensorflow.keras.preprocessing.text import Tokenizer\n",
    "from tensorflow.keras.preprocessing.sequence import pad_sequences\n",
    "from sklearn.model_selection import train_test_split"
   ]
  },
  {
   "cell_type": "code",
   "execution_count": 2,
   "metadata": {},
   "outputs": [],
   "source": [
    "Reviews = pd.read_csv('Restaurant.tsv',sep='\\t')"
   ]
  },
  {
   "cell_type": "code",
   "execution_count": 3,
   "metadata": {},
   "outputs": [
    {
     "data": {
      "text/html": [
       "<div>\n",
       "<style scoped>\n",
       "    .dataframe tbody tr th:only-of-type {\n",
       "        vertical-align: middle;\n",
       "    }\n",
       "\n",
       "    .dataframe tbody tr th {\n",
       "        vertical-align: top;\n",
       "    }\n",
       "\n",
       "    .dataframe thead th {\n",
       "        text-align: right;\n",
       "    }\n",
       "</style>\n",
       "<table border=\"1\" class=\"dataframe\">\n",
       "  <thead>\n",
       "    <tr style=\"text-align: right;\">\n",
       "      <th></th>\n",
       "      <th>Review</th>\n",
       "      <th>Liked</th>\n",
       "    </tr>\n",
       "  </thead>\n",
       "  <tbody>\n",
       "    <tr>\n",
       "      <th>0</th>\n",
       "      <td>Wow... Loved this place.</td>\n",
       "      <td>1</td>\n",
       "    </tr>\n",
       "    <tr>\n",
       "      <th>1</th>\n",
       "      <td>Crust is not good.</td>\n",
       "      <td>0</td>\n",
       "    </tr>\n",
       "    <tr>\n",
       "      <th>2</th>\n",
       "      <td>Not tasty and the texture was just nasty.</td>\n",
       "      <td>0</td>\n",
       "    </tr>\n",
       "    <tr>\n",
       "      <th>3</th>\n",
       "      <td>Stopped by during the late May bank holiday of...</td>\n",
       "      <td>1</td>\n",
       "    </tr>\n",
       "    <tr>\n",
       "      <th>4</th>\n",
       "      <td>The selection on the menu was great and so wer...</td>\n",
       "      <td>1</td>\n",
       "    </tr>\n",
       "  </tbody>\n",
       "</table>\n",
       "</div>"
      ],
      "text/plain": [
       "                                              Review  Liked\n",
       "0                           Wow... Loved this place.      1\n",
       "1                                 Crust is not good.      0\n",
       "2          Not tasty and the texture was just nasty.      0\n",
       "3  Stopped by during the late May bank holiday of...      1\n",
       "4  The selection on the menu was great and so wer...      1"
      ]
     },
     "execution_count": 3,
     "metadata": {},
     "output_type": "execute_result"
    }
   ],
   "source": [
    "Reviews.head()"
   ]
  },
  {
   "cell_type": "code",
   "execution_count": 4,
   "metadata": {},
   "outputs": [],
   "source": [
    "texto = Reviews['Review'].values\n",
    "sentimiento = Reviews['Liked'].values\n"
   ]
  },
  {
   "cell_type": "markdown",
   "metadata": {},
   "source": [
    "## Separando etiquetas de texto"
   ]
  },
  {
   "cell_type": "code",
   "execution_count": 7,
   "metadata": {},
   "outputs": [],
   "source": [
    "xTrain, xTeset, yTrain, yTest = train_test_split(texto,sentimiento,test_size = 0.25, random_state = 3312)"
   ]
  },
  {
   "cell_type": "markdown",
   "metadata": {},
   "source": [
    "## Generación de tokens"
   ]
  },
  {
   "cell_type": "code",
   "execution_count": 8,
   "metadata": {},
   "outputs": [],
   "source": [
    "tokens = Tokenizer(num_words = 6000, lower = True)\n",
    "tokens.fit_on_texts(xTrain)"
   ]
  },
  {
   "cell_type": "code",
   "execution_count": 10,
   "metadata": {},
   "outputs": [],
   "source": [
    "len_tok = len(tokens.word_index) + 1"
   ]
  },
  {
   "cell_type": "markdown",
   "metadata": {},
   "source": [
    "## Secuencia para nuevos textos"
   ]
  },
  {
   "cell_type": "code",
   "execution_count": 11,
   "metadata": {},
   "outputs": [],
   "source": [
    "seqTrain = tokens.texts_to_sequences(xTrain)\n",
    "seqTest = tokens.texts_to_sequences(xTeset)"
   ]
  },
  {
   "cell_type": "code",
   "execution_count": 12,
   "metadata": {},
   "outputs": [],
   "source": [
    "padseqTrain = pad_sequences(seqTrain,padding = 'post', maxlen = len(max(xTrain)))\n",
    "padseqTest = pad_sequences(seqTest,padding = 'post', maxlen = len(max(xTrain)))\n"
   ]
  },
  {
   "cell_type": "markdown",
   "metadata": {},
   "source": [
    "## Creando modelo"
   ]
  },
  {
   "cell_type": "code",
   "execution_count": 13,
   "metadata": {},
   "outputs": [],
   "source": [
    "ModSent = tf.keras.Sequential([\n",
    "    tf.keras.layers.Embedding(input_dim=len_tok,output_dim = 50, input_length= len(max(xTrain))),\n",
    "    tf.keras.layers.LSTM(60),\n",
    "    tf.keras.layers.Dense(1, activation = 'sigmoid')\n",
    "])"
   ]
  },
  {
   "cell_type": "code",
   "execution_count": 14,
   "metadata": {},
   "outputs": [],
   "source": [
    "ModSent.compile(\n",
    "    loss = tf.keras.losses.BinaryCrossentropy(),\n",
    "    optimizer = 'adam',\n",
    "    metrics = ['accuracy']\n",
    ")"
   ]
  },
  {
   "cell_type": "code",
   "execution_count": 15,
   "metadata": {},
   "outputs": [
    {
     "name": "stdout",
     "output_type": "stream",
     "text": [
      "Epoch 1/20\n",
      "15/15 [==============================] - 5s 100ms/step - loss: 0.6936 - accuracy: 0.4947 - val_loss: 0.6930 - val_accuracy: 0.5160\n",
      "Epoch 2/20\n",
      "15/15 [==============================] - 1s 37ms/step - loss: 0.6939 - accuracy: 0.5080 - val_loss: 0.6941 - val_accuracy: 0.4840\n",
      "Epoch 3/20\n",
      "15/15 [==============================] - 0s 33ms/step - loss: 0.6933 - accuracy: 0.5053 - val_loss: 0.6940 - val_accuracy: 0.4840\n",
      "Epoch 4/20\n",
      "15/15 [==============================] - 1s 34ms/step - loss: 0.6933 - accuracy: 0.5053 - val_loss: 0.6936 - val_accuracy: 0.4840\n",
      "Epoch 5/20\n",
      "15/15 [==============================] - 0s 33ms/step - loss: 0.6933 - accuracy: 0.5053 - val_loss: 0.6935 - val_accuracy: 0.4840\n",
      "Epoch 6/20\n",
      "15/15 [==============================] - 0s 33ms/step - loss: 0.6933 - accuracy: 0.4853 - val_loss: 0.6933 - val_accuracy: 0.4840\n",
      "Epoch 7/20\n",
      "15/15 [==============================] - 0s 32ms/step - loss: 0.6934 - accuracy: 0.4760 - val_loss: 0.6931 - val_accuracy: 0.5160\n",
      "Epoch 8/20\n",
      "15/15 [==============================] - 0s 32ms/step - loss: 0.6874 - accuracy: 0.5533 - val_loss: 0.6548 - val_accuracy: 0.6320\n",
      "Epoch 9/20\n",
      "15/15 [==============================] - 0s 33ms/step - loss: 0.5296 - accuracy: 0.7760 - val_loss: 0.6431 - val_accuracy: 0.7080\n",
      "Epoch 10/20\n",
      "15/15 [==============================] - 0s 32ms/step - loss: 0.3899 - accuracy: 0.8667 - val_loss: 0.6507 - val_accuracy: 0.7280\n",
      "Epoch 11/20\n",
      "15/15 [==============================] - 0s 33ms/step - loss: 0.3056 - accuracy: 0.9067 - val_loss: 0.6326 - val_accuracy: 0.7440\n",
      "Epoch 12/20\n",
      "15/15 [==============================] - 0s 30ms/step - loss: 0.2025 - accuracy: 0.9427 - val_loss: 0.6522 - val_accuracy: 0.7680\n",
      "Epoch 13/20\n",
      "15/15 [==============================] - 0s 31ms/step - loss: 0.1728 - accuracy: 0.9587 - val_loss: 0.8914 - val_accuracy: 0.7520\n",
      "Epoch 14/20\n",
      "15/15 [==============================] - 0s 30ms/step - loss: 0.0953 - accuracy: 0.9800 - val_loss: 0.7096 - val_accuracy: 0.7720\n",
      "Epoch 15/20\n",
      "15/15 [==============================] - 0s 31ms/step - loss: 0.0743 - accuracy: 0.9813 - val_loss: 0.8320 - val_accuracy: 0.8160\n",
      "Epoch 16/20\n",
      "15/15 [==============================] - 0s 30ms/step - loss: 0.0411 - accuracy: 0.9933 - val_loss: 0.8950 - val_accuracy: 0.7760\n",
      "Epoch 17/20\n",
      "15/15 [==============================] - 0s 30ms/step - loss: 0.0460 - accuracy: 0.9920 - val_loss: 0.9310 - val_accuracy: 0.7880\n",
      "Epoch 18/20\n",
      "15/15 [==============================] - 0s 31ms/step - loss: 0.0348 - accuracy: 0.9933 - val_loss: 0.8898 - val_accuracy: 0.7880\n",
      "Epoch 19/20\n",
      "15/15 [==============================] - 1s 38ms/step - loss: 0.0504 - accuracy: 0.9800 - val_loss: 0.9969 - val_accuracy: 0.7960\n",
      "Epoch 20/20\n",
      "15/15 [==============================] - 0s 31ms/step - loss: 0.0429 - accuracy: 0.9933 - val_loss: 1.0329 - val_accuracy: 0.7880\n"
     ]
    },
    {
     "data": {
      "text/plain": [
       "<keras.src.callbacks.History at 0x1a9b74a2ca0>"
      ]
     },
     "execution_count": 15,
     "metadata": {},
     "output_type": "execute_result"
    }
   ],
   "source": [
    "ModSent.fit(\n",
    "    padseqTrain,\n",
    "    yTrain,\n",
    "    epochs = 20,\n",
    "    validation_data = (padseqTest,yTest),\n",
    "    batch_size = 50\n",
    ")"
   ]
  },
  {
   "cell_type": "markdown",
   "metadata": {},
   "source": [
    "## Validación del modelo"
   ]
  },
  {
   "cell_type": "code",
   "execution_count": 16,
   "metadata": {},
   "outputs": [
    {
     "data": {
      "text/plain": [
       "0.7879999876022339"
      ]
     },
     "execution_count": 16,
     "metadata": {},
     "output_type": "execute_result"
    }
   ],
   "source": [
    "loss, accuracy = ModSent.evaluate(padseqTest,yTest, verbose = False)\n",
    "accuracy"
   ]
  },
  {
   "cell_type": "markdown",
   "metadata": {},
   "source": [
    "## Prueba con un texto"
   ]
  },
  {
   "cell_type": "code",
   "execution_count": 25,
   "metadata": {},
   "outputs": [],
   "source": [
    "prueba = ['The food was very tasty. I loved the ravioli']\n",
    "prseq = tokens.texts_to_sequences(prueba)\n",
    "prseqpad = pad_sequences(prseq,padding = 'post',maxlen= len(max(xTrain)))"
   ]
  },
  {
   "cell_type": "code",
   "execution_count": 26,
   "metadata": {},
   "outputs": [
    {
     "name": "stdout",
     "output_type": "stream",
     "text": [
      "1/1 [==============================] - 0s 39ms/step\n"
     ]
    }
   ],
   "source": [
    "test = ModSent.predict(prseqpad)"
   ]
  },
  {
   "cell_type": "code",
   "execution_count": 29,
   "metadata": {},
   "outputs": [
    {
     "name": "stdout",
     "output_type": "stream",
     "text": [
      "[[0.99303734]]\n"
     ]
    }
   ],
   "source": [
    "print(test)"
   ]
  },
  {
   "cell_type": "code",
   "execution_count": 31,
   "metadata": {},
   "outputs": [],
   "source": [
    "prueba2 = ['Nasty place to eat']\n",
    "prseq2 = tokens.texts_to_sequences(prueba)\n",
    "prseqpad2 = pad_sequences(prseq2,padding = 'post',maxlen= len(max(xTrain)))"
   ]
  },
  {
   "cell_type": "code",
   "execution_count": 32,
   "metadata": {},
   "outputs": [
    {
     "name": "stdout",
     "output_type": "stream",
     "text": [
      "1/1 [==============================] - 0s 48ms/step\n"
     ]
    }
   ],
   "source": [
    "otro = ModSent.predict(prseqpad2)"
   ]
  },
  {
   "cell_type": "code",
   "execution_count": 33,
   "metadata": {},
   "outputs": [
    {
     "name": "stdout",
     "output_type": "stream",
     "text": [
      "[[0.99303734]]\n"
     ]
    }
   ],
   "source": [
    "print(otro)"
   ]
  }
 ],
 "metadata": {
  "kernelspec": {
   "display_name": "Python 3",
   "language": "python",
   "name": "python3"
  },
  "language_info": {
   "codemirror_mode": {
    "name": "ipython",
    "version": 3
   },
   "file_extension": ".py",
   "mimetype": "text/x-python",
   "name": "python",
   "nbconvert_exporter": "python",
   "pygments_lexer": "ipython3",
   "version": "3.9.6"
  },
  "orig_nbformat": 4
 },
 "nbformat": 4,
 "nbformat_minor": 2
}
